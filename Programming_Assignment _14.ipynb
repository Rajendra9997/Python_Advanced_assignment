{
 "cells": [
  {
   "cell_type": "markdown",
   "id": "140e5790",
   "metadata": {},
   "source": [
    "Q1.Define a class with a generator which can iterate the numbers, which are divisible by 7, between a given range 0 and n."
   ]
  },
  {
   "cell_type": "code",
   "execution_count": 3,
   "id": "c1278740",
   "metadata": {},
   "outputs": [
    {
     "name": "stdout",
     "output_type": "stream",
     "text": [
      "Enter the value of n: 90\n",
      "0 7 14 21 28 35 42 49 56 63 70 77 84 "
     ]
    }
   ],
   "source": [
    "class Multiples_Of_7:\n",
    "    def __init__(self):\n",
    "        number = int(input(\"Enter the value of n: \"))\n",
    "        self.select_Upper_bound_range = number\n",
    "    def generator(self):\n",
    "        for i in range(0, self.select_Upper_bound_range+1):\n",
    "            if i%7 == 0:\n",
    "                yield i\n",
    "                    \n",
    "result = Multiples_Of_7()\n",
    "for j in result.generator():\n",
    "    print(j,end=' ')"
   ]
  },
  {
   "cell_type": "markdown",
   "id": "457c153f",
   "metadata": {},
   "source": [
    "Q2.Write a program to compute the frequency of the words from the input. The output should output after sorting the key alphanumerically.\n",
    "Suppose the following input is supplied to the program: New to Python or choosing between Python 2 and Python 3? Read Python 2 or Python 3.Then, the output should be:\n",
    "2:2\n",
    "3.:1\n",
    "3?:1\n",
    "New:1\n",
    "Python:5\n",
    "Read:1\n",
    "and:1\n",
    "between:1\n",
    "choosing:1\n",
    "or:2\n",
    "to:1"
   ]
  },
  {
   "cell_type": "code",
   "execution_count": 1,
   "id": "ad0ab49e",
   "metadata": {},
   "outputs": [
    {
     "name": "stdout",
     "output_type": "stream",
     "text": [
      "Enter your sentence: New to Python or choosing between Python 2 and Python 3? Read Python 2 or Python 3.\n",
      "\n",
      "2:1\n",
      "\n",
      "3.:1\n",
      "\n",
      "3?:1\n",
      "\n",
      "New:1\n",
      "\n",
      "Python:1\n",
      "\n",
      "Read:1\n",
      "\n",
      "and:1\n",
      "\n",
      "between:1\n",
      "\n",
      "choosing:1\n",
      "\n",
      "or:1\n",
      "\n",
      "to:1\n",
      "\n"
     ]
    }
   ],
   "source": [
    "user_input = input(\"Enter your sentence: \")\n",
    "print()\n",
    "words_in_the_sentence = user_input.split(\" \")\n",
    "\n",
    "sorted_words = sorted(set(words_in_the_sentence))\n",
    "sorted_words_list = list(sorted_words)\n",
    "\n",
    "for i in sorted_words_list:\n",
    "    number = sorted_words_list.count(i)\n",
    "    print(f'{i}:{number}',end=\"\\n\\n\")"
   ]
  },
  {
   "cell_type": "markdown",
   "id": "39adadcf",
   "metadata": {},
   "source": [
    "Q3.Define a class Person and its two child classes: Male and Female. All classes have a method \"getGender\" which can print \"Male\" for Male class and \"Female\" for Female class."
   ]
  },
  {
   "cell_type": "code",
   "execution_count": 2,
   "id": "c5f4ef4c",
   "metadata": {},
   "outputs": [
    {
     "name": "stdout",
     "output_type": "stream",
     "text": [
      "Male\n",
      "Use a child class object of Person class to check gender type! \n",
      "Female\n"
     ]
    }
   ],
   "source": [
    "class Person():\n",
    "    def getGender(self):\n",
    "        return \"Use a child class object of Person class to check gender type! \"\n",
    "    \n",
    "class Male(Person):\n",
    "    def getGender(self):\n",
    "        return \"Male\"\n",
    "    \n",
    "class Female(Person):\n",
    "    def getGender(self):\n",
    "        return \"Female\"\n",
    "    \n",
    "object_male = Male()\n",
    "object_Person = Person()\n",
    "object_female= Female()\n",
    "print(object_male.getGender())\n",
    "print(object_Person.getGender())\n",
    "print(object_female.getGender())"
   ]
  },
  {
   "cell_type": "markdown",
   "id": "74a69fd1",
   "metadata": {},
   "source": [
    "Q4.Please write a program to generate all sentences where subject is in [\"I\", \"You\"] and verb is in [\"Play\", \"Love\"] and the object is in [\"Hockey\", \"Football\"]."
   ]
  },
  {
   "cell_type": "code",
   "execution_count": 3,
   "id": "fbcd4c79",
   "metadata": {},
   "outputs": [
    {
     "name": "stdout",
     "output_type": "stream",
     "text": [
      "I Play Hockey\n",
      "\n",
      "I Play Football\n",
      "\n",
      "I Love Hockey\n",
      "\n",
      "I Love Football\n",
      "\n",
      "You Play Hockey\n",
      "\n",
      "You Play Football\n",
      "\n",
      "You Love Hockey\n",
      "\n",
      "You Love Football\n",
      "\n"
     ]
    }
   ],
   "source": [
    "def sentence_generator():\n",
    "    Subject = [\"I\", \"You\"]\n",
    "    Verb = [\"Play\", \"Love\"]\n",
    "    Object = [\"Hockey\", \"Football\"]\n",
    "    \n",
    "    for s in Subject:\n",
    "        for v in Verb:\n",
    "            for o in Object:\n",
    "                print(s,v,o, end = \"\\n\\n\")\n",
    "                \n",
    "sentence_generator()"
   ]
  },
  {
   "cell_type": "markdown",
   "id": "d763a863",
   "metadata": {},
   "source": [
    "Q5.Please write a program to compress and decompress the string \"hello world!hello world!hello world!hello world!\"."
   ]
  },
  {
   "cell_type": "code",
   "execution_count": 10,
   "id": "f89c11b5",
   "metadata": {},
   "outputs": [
    {
     "name": "stdout",
     "output_type": "stream",
     "text": [
      "Enter the string you want to compress: raaajeenddrraaa\n"
     ]
    },
    {
     "data": {
      "text/plain": [
       "'r3j2n2r2a3'"
      ]
     },
     "execution_count": 10,
     "metadata": {},
     "output_type": "execute_result"
    }
   ],
   "source": [
    "def compressor():\n",
    "    string = input(\"Enter the string you want to compress: \")\n",
    "    compressed_string_store_room = string[0]\n",
    "    count = 1\n",
    "    for i in range(len(string) - 1):\n",
    "        if string[i] == string[i+1]:\n",
    "            count = count + 1\n",
    "        else:\n",
    "            if count > 1:\n",
    "                compressed_string_store_room = compressed_string_store_room + str(count)\n",
    "                compressed_string_store_room = compressed_string_store_room + string[i+1]\n",
    "                count = 1\n",
    "        \n",
    "    if count > 1:\n",
    "        return compressed_string_store_room + str(count)\n",
    "    else:\n",
    "        return compressed_string_store_room\n",
    "compressor()"
   ]
  },
  {
   "cell_type": "code",
   "execution_count": 13,
   "id": "b6d95e83",
   "metadata": {},
   "outputs": [
    {
     "name": "stdout",
     "output_type": "stream",
     "text": [
      "Enter the string you want to decompress: ra3j4nd5\n"
     ]
    },
    {
     "data": {
      "text/plain": [
       "'raaajjjjnddddd'"
      ]
     },
     "execution_count": 13,
     "metadata": {},
     "output_type": "execute_result"
    }
   ],
   "source": [
    "def decompressor():\n",
    "    string = input(\"Enter the string you want to decompress: \")\n",
    "    decompressed_string = \"\"\n",
    "    for i in range(len(string)):\n",
    "        if string[i].isdigit():\n",
    "            decompressed_string = decompressed_string + decompressed_string[-1]*(int(string[i])-1)\n",
    "        else:\n",
    "            decompressed_string = decompressed_string + string[i]\n",
    "    return decompressed_string\n",
    "decompressor()"
   ]
  },
  {
   "cell_type": "markdown",
   "id": "34735d59",
   "metadata": {},
   "source": [
    "Q6.Please write a binary search function which searches an item in a sorted list. The function should return the index of element to be searched in the list."
   ]
  },
  {
   "cell_type": "code",
   "execution_count": 5,
   "id": "30b8f306",
   "metadata": {},
   "outputs": [
    {
     "name": "stdout",
     "output_type": "stream",
     "text": [
      "Enter any list:  [323,54,56,21,7567,967,34,89,20,45,96,34525,1241,5345,4534,767,8785,856,8966,57,35,32,3434,577,8568]\n",
      "Enter the element for which you to find its index in the list given you after sorting: 20\n",
      "20 is present at index 0 \n"
     ]
    }
   ],
   "source": [
    "List = eval(input(\"Enter any list: \"))\n",
    "Element = int(input(\"Enter the element for which you to find its index in the list given you after sorting: \"))\n",
    "\n",
    "def Binary_Searcher():\n",
    "    Sorted_List = sorted(List)\n",
    "    \n",
    "    lowest_index = 0\n",
    "    highest_index = len(Sorted_List) - 1\n",
    "    \n",
    "    while lowest_index <= highest_index:\n",
    "        middle_index = (lowest_index + highest_index)//2\n",
    "        if Sorted_List[middle_index] < Element:\n",
    "            lowest_index = middle_index + 1\n",
    "        elif Sorted_List[middle_index] > Element:\n",
    "            highest_index = middle_index - 1\n",
    "        else:\n",
    "            return middle_index\n",
    "    else:\n",
    "        return \"invalid\"\n",
    "\n",
    "result = Binary_Searcher()\n",
    "\n",
    "if result != \"invalid\":\n",
    "    print(f'{Element} is present at index {result} ')\n",
    "else:\n",
    "    print(\"The element for which you to find its index in not present in the list given by you\")"
   ]
  },
  {
   "cell_type": "code",
   "execution_count": null,
   "id": "b9b15beb",
   "metadata": {},
   "outputs": [],
   "source": []
  }
 ],
 "metadata": {
  "kernelspec": {
   "display_name": "Python 3",
   "language": "python",
   "name": "python3"
  },
  "language_info": {
   "codemirror_mode": {
    "name": "ipython",
    "version": 3
   },
   "file_extension": ".py",
   "mimetype": "text/x-python",
   "name": "python",
   "nbconvert_exporter": "python",
   "pygments_lexer": "ipython3",
   "version": "3.7.6"
  }
 },
 "nbformat": 4,
 "nbformat_minor": 5
}
