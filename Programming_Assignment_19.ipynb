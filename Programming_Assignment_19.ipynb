{
 "cells": [
  {
   "cell_type": "markdown",
   "id": "b11ebcf0",
   "metadata": {},
   "source": [
    "Que 1.Create a function that takes a string and returns a string in which each character is repeated once."
   ]
  },
  {
   "cell_type": "markdown",
   "id": "d2f6294b",
   "metadata": {},
   "source": [
    "Examples\n",
    "\n",
    "double_char(&quot;String&quot;) ➞ &quot;SSttrriinngg&quot;\n",
    "\n",
    "double_char(&quot;Hello World!&quot;) ➞ &quot;HHeelllloo WWoorrlldd!!&quot;\n",
    "\n",
    "double_char(&quot;1234!_ &quot;) ➞ &quot;11223344!!__ &quot;"
   ]
  },
  {
   "cell_type": "code",
   "execution_count": 1,
   "id": "248a1402",
   "metadata": {},
   "outputs": [
    {
     "name": "stdout",
     "output_type": "stream",
     "text": [
      "Enter a string: rajen\n",
      "rajen ➞  rraajjeenn\n",
      "Enter a string: bhakti\n",
      "bhakti ➞  bbhhaakkttii\n",
      "Enter a string: jadhav\n",
      "jadhav ➞  jjaaddhhaavv\n"
     ]
    }
   ],
   "source": [
    "def double_char(in_string):\n",
    "    out_string = ' '\n",
    "    for i in in_string:\n",
    "        out_string += i*2\n",
    "    return out_string\n",
    "\n",
    "for i in range(3):\n",
    "    in_string = input('Enter a string: ')\n",
    "    print(f'{in_string} ➞ {double_char(in_string)}')"
   ]
  },
  {
   "cell_type": "markdown",
   "id": "8aa8e511",
   "metadata": {},
   "source": [
    "Que 2.Create a function that reverses a boolean value and returns the string &quot;boolean expected&quot; if another variable type is given."
   ]
  },
  {
   "cell_type": "markdown",
   "id": "6fb2d21b",
   "metadata": {},
   "source": [
    "Examples\n",
    "\n",
    "reverse(True) ➞ False\n",
    "\n",
    "reverse(False) ➞ True\n",
    "\n",
    "reverse(0) ➞ &quot;boolean expected&quot;\n",
    "\n",
    "reverse(None) ➞ &quot;boolean expected&quot;"
   ]
  },
  {
   "cell_type": "code",
   "execution_count": 2,
   "id": "0840cf5d",
   "metadata": {},
   "outputs": [
    {
     "name": "stdout",
     "output_type": "stream",
     "text": [
      "reverse(True) ➞ False\n",
      "reverse(False) ➞ True\n",
      "reverse(0) ➞ Boolean Expected\n",
      "reverse(None) ➞ Boolean Expected\n"
     ]
    }
   ],
   "source": [
    "def reverse(in_bool):\n",
    "    if type(in_bool) == bool:\n",
    "        return not in_bool\n",
    "    else:\n",
    "        return \"Boolean Expected\"\n",
    "\n",
    "print(f'reverse(True) ➞ {reverse(True)}')\n",
    "print(f'reverse(False) ➞ {reverse(False)}')\n",
    "print(f'reverse(0) ➞ {reverse(0)}')\n",
    "print(f'reverse(None) ➞ {reverse(None)}')"
   ]
  },
  {
   "cell_type": "markdown",
   "id": "abfc6f1d",
   "metadata": {},
   "source": [
    "Que 3.Create a function that returns the thickness (in meters) of a piece of paper after folding it n number of times. The paper starts off with a thickness of 0.5mm."
   ]
  },
  {
   "cell_type": "markdown",
   "id": "1a86da18",
   "metadata": {},
   "source": [
    "Examples\n",
    "\n",
    "num_layers(1) ➞ &quot;0.001m&quot;\n",
    "\n",
    "#Paper folded once is 1mm (equal to 0.001m)\n",
    "\n",
    "num_layers(4) ➞ &quot;0.008m&quot;\n",
    "\n",
    "#Paper folded 4 times is 8mm (equal to 0.008m)\n",
    "\n",
    "num_layers(21) ➞ &quot;1048.576m&quot;\n",
    "\n",
    "#Paper folded 21 times is 1048576mm (equal to 1048.576m)"
   ]
  },
  {
   "cell_type": "code",
   "execution_count": 3,
   "id": "c56714d4",
   "metadata": {},
   "outputs": [
    {
     "name": "stdout",
     "output_type": "stream",
     "text": [
      "Enter a number:5\n",
      "Paper folded 5 times is 16.0mm ➞ 0.0005m\n",
      "Enter a number:10\n",
      "Paper folded 10 times is 512.0mm ➞ 0.0005m\n",
      "Enter a number:15\n",
      "Paper folded 15 times is 16384.0mm ➞ 0.0005m\n"
     ]
    }
   ],
   "source": [
    "def num_layers(num):\n",
    "    out_num = 0.5\n",
    "    for i in range(num):\n",
    "        out_num *= 2\n",
    "    return out_num\n",
    "\n",
    "for j in range(3):\n",
    "    num = int(input('Enter a number:'))\n",
    "    out_num = 0.5\n",
    "    print(f'Paper folded {num} times is {num_layers(num)}mm ➞ {out_num/1000}m')\n",
    "\n"
   ]
  },
  {
   "cell_type": "markdown",
   "id": "d6343c36",
   "metadata": {},
   "source": [
    "Que 4.Create a function that takes a single string as argument and returns an ordered list containing the indices of all capital letters in the string."
   ]
  },
  {
   "cell_type": "markdown",
   "id": "6c554cfa",
   "metadata": {},
   "source": [
    "Examples\n",
    "\n",
    "index_of_caps(&quot;eDaBiT&quot;) ➞ [1, 3, 5]\n",
    "\n",
    "index_of_caps(&quot;eQuINoX&quot;) ➞ [1, 3, 4, 6]\n",
    "\n",
    "index_of_caps(&quot;determine&quot;) ➞ []\n",
    "\n",
    "index_of_caps(&quot;STRIKE&quot;) ➞ [0, 1, 2, 3, 4, 5]\n",
    "\n",
    "index_of_caps(&quot;sUn&quot;) ➞ [1]"
   ]
  },
  {
   "cell_type": "code",
   "execution_count": 4,
   "id": "b356b4c0",
   "metadata": {},
   "outputs": [
    {
     "name": "stdout",
     "output_type": "stream",
     "text": [
      "eDaBiT ➞ [1, 3, 5]\n",
      "eQuINoX ➞ [1, 3, 4, 6]\n",
      "determine ➞ []\n",
      "STRIKE ➞ [0, 1, 2, 3, 4, 5]\n",
      "sUn ➞ [1]\n"
     ]
    }
   ],
   "source": [
    "def index_of_caps(in_string):\n",
    "    out_string = []\n",
    "    for i in in_string:\n",
    "        if i.isupper():\n",
    "            out_string.append(in_string.index(i))\n",
    "            \n",
    "    print(f'{in_string} ➞ {out_string}')\n",
    "        \n",
    "index_of_caps(\"eDaBiT\")\n",
    "index_of_caps(\"eQuINoX\")\n",
    "index_of_caps(\"determine\")\n",
    "index_of_caps(\"STRIKE\")\n",
    "index_of_caps(\"sUn\")"
   ]
  },
  {
   "cell_type": "markdown",
   "id": "12fa94c4",
   "metadata": {},
   "source": [
    "Que 5.Using list comprehensions, create a function that finds all even numbers from 1 to the given number."
   ]
  },
  {
   "cell_type": "markdown",
   "id": "35d6069a",
   "metadata": {},
   "source": [
    "Examples\n",
    "\n",
    "find_even_nums(8) ➞ [2, 4, 6, 8]\n",
    "\n",
    "find_even_nums(4) ➞ [2, 4]\n",
    "\n",
    "find_even_nums(2) ➞ [2]"
   ]
  },
  {
   "cell_type": "code",
   "execution_count": 5,
   "id": "2c856614",
   "metadata": {},
   "outputs": [
    {
     "name": "stdout",
     "output_type": "stream",
     "text": [
      "Output ➞ [2, 4, 6, 8]\n",
      "Output ➞ [2, 4]\n",
      "Output ➞ [2]\n"
     ]
    }
   ],
   "source": [
    "def find_even_nums(in_num):\n",
    "    out_list = []\n",
    "    for i in range(1,in_num+1):\n",
    "        if i%2 == 0:\n",
    "            out_list.append(i)\n",
    "    print(f'Output ➞ {out_list}')\n",
    "    \n",
    "find_even_nums(8)\n",
    "find_even_nums(4)\n",
    "find_even_nums(2)"
   ]
  },
  {
   "cell_type": "code",
   "execution_count": null,
   "id": "e0530e6e",
   "metadata": {},
   "outputs": [],
   "source": []
  }
 ],
 "metadata": {
  "kernelspec": {
   "display_name": "Python 3",
   "language": "python",
   "name": "python3"
  },
  "language_info": {
   "codemirror_mode": {
    "name": "ipython",
    "version": 3
   },
   "file_extension": ".py",
   "mimetype": "text/x-python",
   "name": "python",
   "nbconvert_exporter": "python",
   "pygments_lexer": "ipython3",
   "version": "3.7.6"
  }
 },
 "nbformat": 4,
 "nbformat_minor": 5
}
