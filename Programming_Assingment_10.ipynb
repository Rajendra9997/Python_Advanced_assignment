{
 "cells": [
  {
   "cell_type": "markdown",
   "id": "613680f1",
   "metadata": {},
   "source": [
    "Q1.Write a Python program to find sum of elements in list?"
   ]
  },
  {
   "cell_type": "code",
   "execution_count": 2,
   "id": "af1ff23a",
   "metadata": {},
   "outputs": [
    {
     "name": "stdout",
     "output_type": "stream",
     "text": [
      "The sum of all the elements in the given list is  243\n"
     ]
    }
   ],
   "source": [
    "def List_Elements_Sum(x):\n",
    "    if type(x) == list:\n",
    "        SUM = 0\n",
    "        for i in range(len(x)):\n",
    "            SUM = SUM + x[i]\n",
    "        print(\"The sum of all the elements in the given list is \",SUM)\n",
    "    \n",
    "    else:\n",
    "        print(\"WARNING!!!!! Please give input in the form of a list\")\n",
    "        \n",
    "List_Elements_Sum([45,55,66,77])"
   ]
  },
  {
   "cell_type": "markdown",
   "id": "66244db4",
   "metadata": {},
   "source": [
    "Q2.Write a Python program to  Multiply all numbers in the list?"
   ]
  },
  {
   "cell_type": "code",
   "execution_count": 4,
   "id": "2ff0587f",
   "metadata": {},
   "outputs": [
    {
     "name": "stdout",
     "output_type": "stream",
     "text": [
      "The product of all the elements in the given list is  39373776\n"
     ]
    }
   ],
   "source": [
    "def List_Elements_Product(x):\n",
    "    if type(x) == list:\n",
    "        PRODUCT = 1\n",
    "        for i in range(len(x)):\n",
    "            PRODUCT = PRODUCT * x[i]\n",
    "        print(\"The product of all the elements in the given list is \",PRODUCT)\n",
    "        \n",
    "    else:\n",
    "        print(\"WARNING!!!!! Please give input in the form of a list\")\n",
    "List_Elements_Product([123,456,78,9])"
   ]
  },
  {
   "cell_type": "markdown",
   "id": "692419ea",
   "metadata": {},
   "source": [
    "Q3.Write a Python program to find smallest number in a list?"
   ]
  },
  {
   "cell_type": "code",
   "execution_count": 7,
   "id": "90726d62",
   "metadata": {},
   "outputs": [
    {
     "name": "stdout",
     "output_type": "stream",
     "text": [
      "The smallest of all the elements in the given list is  546\n"
     ]
    }
   ],
   "source": [
    "def List_Elements_Smallest(x):\n",
    "    if type(x) == list:\n",
    "        SMALLEST = x[1]\n",
    "        for i in range(len(x)):\n",
    "            if x[1] <= x[i]:\n",
    "                SMALLEST = x[1]\n",
    "        else:\n",
    "            SMALLEST = x[i]\n",
    "            x[1] = SMALLEST\n",
    "            print(\"The smallest of all the elements in the given list is \",SMALLEST)\n",
    "    else:\n",
    "        print(\"WARNING!!!!! Please give input in the form of a list\")\n",
    "List_Elements_Smallest([234,564,546])"
   ]
  },
  {
   "cell_type": "markdown",
   "id": "0a55ce31",
   "metadata": {},
   "source": [
    "Q4.Write a Python program to find largest number in a list?"
   ]
  },
  {
   "cell_type": "code",
   "execution_count": 8,
   "id": "f9a9e3b5",
   "metadata": {},
   "outputs": [
    {
     "name": "stdout",
     "output_type": "stream",
     "text": [
      "The largest of all the elements in the given list is  86\n"
     ]
    }
   ],
   "source": [
    "def List_Elements_Largest(x):\n",
    "    if type(x) == list:\n",
    "        LARGEST = x[1]\n",
    "        for i in range(len(x)):\n",
    "            if x[1] >= x[i]:\n",
    "                LARGEST = x[1]\n",
    "        else:\n",
    "            LARGEST = x[i]\n",
    "            x[1] = LARGEST\n",
    "            print(\"The largest of all the elements in the given list is \",LARGEST)\n",
    "    else:\n",
    "        print(\"WARNING!!!!! Please give input in the form of a list\")\n",
    "List_Elements_Largest([6546,567567,767,86])"
   ]
  },
  {
   "cell_type": "markdown",
   "id": "8079af56",
   "metadata": {},
   "source": [
    "Q5.Write a Python program to find second largest number in a list?"
   ]
  },
  {
   "cell_type": "code",
   "execution_count": 9,
   "id": "2b188671",
   "metadata": {},
   "outputs": [
    {
     "name": "stdout",
     "output_type": "stream",
     "text": [
      "The second largest number in the given list is  3245\n"
     ]
    }
   ],
   "source": [
    "def List_Elements_Second_Largest(x):\n",
    "    if type(x) == list:\n",
    "        Sorted_List = sorted(x)\n",
    "        Reversed_Sorted_List = sorted(x)[::-1]\n",
    "        print(\"The second largest number in the given list is \", Reversed_Sorted_List[1])\n",
    "List_Elements_Second_Largest([3245,677,45764,67,5])"
   ]
  },
  {
   "cell_type": "markdown",
   "id": "bcd224cc",
   "metadata": {},
   "source": [
    "Q6.Write a Python program to find N largest elements from a list?"
   ]
  },
  {
   "cell_type": "code",
   "execution_count": 11,
   "id": "ef9689ac",
   "metadata": {},
   "outputs": [
    {
     "name": "stdout",
     "output_type": "stream",
     "text": [
      "3\n",
      "[45764, 3245, 677]\n"
     ]
    }
   ],
   "source": [
    "def List_Elements_N_Largest(x):\n",
    "    if type(x) == list:\n",
    "        Sorted_List = sorted(x)\n",
    "        Reversed_Sorted_List = sorted(x)[::-1]\n",
    "        R = int(input())\n",
    "        print(Reversed_Sorted_List[:R:])\n",
    "List_Elements_N_Largest([3245,677,45764,67,5])"
   ]
  },
  {
   "cell_type": "markdown",
   "id": "ab6382df",
   "metadata": {},
   "source": [
    "Q7.Write a Python program to print even numbers in a list?"
   ]
  },
  {
   "cell_type": "code",
   "execution_count": 18,
   "id": "20eb3201",
   "metadata": {},
   "outputs": [
    {
     "name": "stdout",
     "output_type": "stream",
     "text": [
      "The even numbers in the given list are:  [45764, 66]\n"
     ]
    }
   ],
   "source": [
    "def List_Elements_Even(x):\n",
    "    if type(x) == list:\n",
    "        List = []\n",
    "        for i in range(len(x)):\n",
    "            if x[i]%2 == 0:\n",
    "                List.append(x[i])\n",
    "        print(\"The even numbers in the given list are: \",List)\n",
    "List_Elements_Even([3245,677,45764,66])"
   ]
  },
  {
   "cell_type": "markdown",
   "id": "8fedd679",
   "metadata": {},
   "source": [
    "Q8.Write a Python program to print odd numbers in a List?"
   ]
  },
  {
   "cell_type": "code",
   "execution_count": 17,
   "id": "3c9a6df7",
   "metadata": {},
   "outputs": [
    {
     "name": "stdout",
     "output_type": "stream",
     "text": [
      "The odd numbers in the given list are:  [3245, 677]\n"
     ]
    }
   ],
   "source": [
    "def List_Elements_Odd(x):\n",
    "    if type(x) == list:\n",
    "        List = []\n",
    "        for i in range(len(x)):\n",
    "            if x[i]%2 != 0:\n",
    "                List.append(x[i])\n",
    "        print(\"The odd numbers in the given list are: \",List)\n",
    "                \n",
    "List_Elements_Odd([3245,677,45764,66])"
   ]
  },
  {
   "cell_type": "markdown",
   "id": "4534162b",
   "metadata": {},
   "source": [
    "Q9.Write a Python program to Remove empty List from List?"
   ]
  },
  {
   "cell_type": "code",
   "execution_count": 20,
   "id": "74b13a77",
   "metadata": {},
   "outputs": [
    {
     "name": "stdout",
     "output_type": "stream",
     "text": [
      "The modified list is as:  [3245, 677, 66, 8]\n"
     ]
    }
   ],
   "source": [
    "def List_Elements_Remove(x):\n",
    "    if type(x) == list:\n",
    "        Modified_List = []\n",
    "        for i in range(len(x)):\n",
    "            if x[i] != []:\n",
    "                Modified_List.append(x[i])\n",
    "        print(\"The modified list is as: \", Modified_List)\n",
    "List_Elements_Remove([3245,677,66,[],[],8])"
   ]
  },
  {
   "cell_type": "markdown",
   "id": "5346a77d",
   "metadata": {},
   "source": [
    "Q10.Write a Python program to Cloning or Copying a list?"
   ]
  },
  {
   "cell_type": "code",
   "execution_count": 23,
   "id": "af2b76ee",
   "metadata": {},
   "outputs": [
    {
     "name": "stdout",
     "output_type": "stream",
     "text": [
      "The cloned list is:  \n",
      " [3245, 677, 66, [], [3245, 677, 66], 4]\n"
     ]
    }
   ],
   "source": [
    "def List_Cloning(x):\n",
    "    if type(x) == list:\n",
    "        Cloned_List = x[:]\n",
    "    print(\"The cloned list is: \",\"\\n\",Cloned_List)\n",
    "List_Cloning([3245,677,66,[],[3245,677,66],4])"
   ]
  },
  {
   "cell_type": "markdown",
   "id": "775ff3f5",
   "metadata": {},
   "source": [
    "Q11.Write a Python program to Count occurrences of an element in a list?"
   ]
  },
  {
   "cell_type": "code",
   "execution_count": 25,
   "id": "a708a761",
   "metadata": {},
   "outputs": [
    {
     "name": "stdout",
     "output_type": "stream",
     "text": [
      "9 has occurred 3 number of times in the given list\n"
     ]
    }
   ],
   "source": [
    "def List_Count_Occurrence(x, element):\n",
    "    if type(x) == list:\n",
    "        Count = 0\n",
    "        for i in x:\n",
    "            if i == element:\n",
    "                Count = Count + 1\n",
    "        print(element, \"has occurred\", Count, \"number of times in the given list\")\n",
    "        \n",
    "List_Count_Occurrence([4,23,43,4,9,5,9,46,5,2,234,9,4,67,32],9)"
   ]
  },
  {
   "cell_type": "code",
   "execution_count": null,
   "id": "e896ecbc",
   "metadata": {},
   "outputs": [],
   "source": []
  }
 ],
 "metadata": {
  "kernelspec": {
   "display_name": "Python 3",
   "language": "python",
   "name": "python3"
  },
  "language_info": {
   "codemirror_mode": {
    "name": "ipython",
    "version": 3
   },
   "file_extension": ".py",
   "mimetype": "text/x-python",
   "name": "python",
   "nbconvert_exporter": "python",
   "pygments_lexer": "ipython3",
   "version": "3.7.6"
  }
 },
 "nbformat": 4,
 "nbformat_minor": 5
}
