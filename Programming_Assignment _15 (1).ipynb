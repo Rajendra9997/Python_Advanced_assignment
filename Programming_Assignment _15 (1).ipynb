{
 "cells": [
  {
   "cell_type": "markdown",
   "id": "169db68e",
   "metadata": {},
   "source": [
    "Q1.Please write a program using generator to print the numbers which can be divisible by 5 and 7 between 0 and n in comma separated form while n is input by console.\n",
    "Example:If the following n is given as input to the program:100 Then, the output of the program should be:0,35,70"
   ]
  },
  {
   "cell_type": "code",
   "execution_count": 3,
   "id": "e5d593ec",
   "metadata": {},
   "outputs": [
    {
     "name": "stdout",
     "output_type": "stream",
     "text": [
      "Enter the value of n : 78\n",
      "0,35,70\n"
     ]
    }
   ],
   "source": [
    "n = int(input(\"Enter the value of n : \"))\n",
    "def Multiples_of_Both_5_And_7(x):\n",
    "    for i in range(0,x+1):\n",
    "        if i%5 == 0 and i%7 == 0:\n",
    "            yield i\n",
    "store_room = []\n",
    "for i in Multiples_of_Both_5_And_7 (n):\n",
    "    store_room.append(str(i))\n",
    "print(\",\".join(store_room))      "
   ]
  },
  {
   "cell_type": "markdown",
   "id": "a5a8b660",
   "metadata": {},
   "source": [
    "Q2.Please write a program using generator to print the even numbers between 0 and n in comma separated form while n is input by console.\n",
    "Example: If the following n is given as input to the program:10 Then, the output of the program should be:0,2,4,6,8,10"
   ]
  },
  {
   "cell_type": "code",
   "execution_count": 1,
   "id": "1cd34119",
   "metadata": {},
   "outputs": [
    {
     "name": "stdout",
     "output_type": "stream",
     "text": [
      "Enter the value of n : 30\n",
      "0,2,4,6,8,10,12,14,16,18,20,22,24,26,28,30\n"
     ]
    }
   ],
   "source": [
    "n = int(input(\"Enter the value of n : \"))\n",
    "def Even_Printer(x):\n",
    "    for i in range(0,x+1):\n",
    "        if i%2 == 0:\n",
    "            yield i\n",
    "store_room = []\n",
    "for i in Even_Printer (n):\n",
    "     store_room.append(str(i))\n",
    "print(\",\".join(store_room))"
   ]
  },
  {
   "cell_type": "markdown",
   "id": "9e7c6df6",
   "metadata": {},
   "source": [
    "Q3.The Fibonacci Sequence is computed based on the following formula:\n",
    "f(n)=0 if n=0\n",
    "f(n)=1 if n=1\n",
    "f(n)=f(n-1)+f(n-2) if n>1\n",
    "Please write a program using list comprehension to print the Fibonacci Sequence in comma separated form with a given n input by console.\n",
    "Example:\n",
    "If the following n is given as input to the program:7\n",
    "Then, the output of the program should be:0,1,1,2,3,5,8,13"
   ]
  },
  {
   "cell_type": "code",
   "execution_count": 3,
   "id": "b8baf2b0",
   "metadata": {},
   "outputs": [
    {
     "name": "stdout",
     "output_type": "stream",
     "text": [
      "Enter any positive value of n: 25\n",
      "0,1,1,2,3,5,8,13,21,34,55,89,144,233,377,610,987,1597,2584,4181,6765,10946,17711,28657,46368,75025\n"
     ]
    }
   ],
   "source": [
    "n = int(input(\"Enter any positive value of n: \"))\n",
    "def fibonaci_generator(x):\n",
    "    if x >= 0:\n",
    "        if x == 0:\n",
    "            return 0\n",
    "        elif x == 1:\n",
    "            return 1\n",
    "        else:\n",
    "            return fibonaci_generator(x-1) + fibonaci_generator(x-2)\n",
    "store_room = [str(fibonaci_generator(i)) for i in range(n + 1)]\n",
    "print(\",\".join(store_room))"
   ]
  },
  {
   "cell_type": "markdown",
   "id": "32e877fb",
   "metadata": {},
   "source": [
    "Q4.Assuming that we have some email addresses in the \"username@companyname.com\" format, please write\n",
    "program to print the user name of a given email address. Both user names and company names are composed of letters only.\n",
    "Example:If the following email address is given as input to the program:john@google.com Then, the output of the program should be:john"
   ]
  },
  {
   "cell_type": "code",
   "execution_count": 4,
   "id": "a49e6538",
   "metadata": {},
   "outputs": [
    {
     "name": "stdout",
     "output_type": "stream",
     "text": [
      "Enter your email address: jadhav@gmail.com\n",
      "jadhav\n"
     ]
    }
   ],
   "source": [
    "userinput = input(\"Enter your email address: \")\n",
    "print(userinput[0:userinput.index(\"@\")])"
   ]
  },
  {
   "cell_type": "markdown",
   "id": "b9963bd5",
   "metadata": {},
   "source": [
    "Q5.Define a class named Shape and its subclass Square. The Square class has an init function which takes a length as argument. Both classes have a area function which can print the area of the shape where Shape's area is 0 by default."
   ]
  },
  {
   "cell_type": "code",
   "execution_count": 7,
   "id": "8d679edb",
   "metadata": {},
   "outputs": [
    {
     "name": "stdout",
     "output_type": "stream",
     "text": [
      "Enter the length of each side of the Square: 75\n",
      "The area of the Square is 5625\n"
     ]
    }
   ],
   "source": [
    "class Shape:\n",
    "    def area(self):\n",
    "        return 0\n",
    "    \n",
    "class Square(Shape):\n",
    "    def __init__(self, side_length):\n",
    "        self.side_length = side_length\n",
    "        \n",
    "    def area(self):\n",
    "        print(f\"The area of the Square is {(self.side_length)**2}\")\n",
    "        \n",
    "Object = Square(int(input(\"Enter the length of each side of the Square: \")))\n",
    "Object.area()"
   ]
  },
  {
   "cell_type": "code",
   "execution_count": null,
   "id": "823e40ca",
   "metadata": {},
   "outputs": [],
   "source": []
  }
 ],
 "metadata": {
  "kernelspec": {
   "display_name": "Python 3",
   "language": "python",
   "name": "python3"
  },
  "language_info": {
   "codemirror_mode": {
    "name": "ipython",
    "version": 3
   },
   "file_extension": ".py",
   "mimetype": "text/x-python",
   "name": "python",
   "nbconvert_exporter": "python",
   "pygments_lexer": "ipython3",
   "version": "3.7.6"
  }
 },
 "nbformat": 4,
 "nbformat_minor": 5
}
