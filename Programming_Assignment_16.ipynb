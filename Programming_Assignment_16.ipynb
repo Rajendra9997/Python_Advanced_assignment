{
 "cells": [
  {
   "cell_type": "markdown",
   "id": "64a570b6",
   "metadata": {},
   "source": [
    "Que 1.Write a function that stutters a word as if someone is struggling to read it. The first two letters are repeated twice with an ellipsis ... and space after each, and then the word is pronounced with a question mark ?."
   ]
  },
  {
   "cell_type": "markdown",
   "id": "cc06ac8f",
   "metadata": {},
   "source": [
    "Examples:"
   ]
  },
  {
   "cell_type": "markdown",
   "id": "500e263f",
   "metadata": {},
   "source": [
    "stutter(&quot;incredible&quot;) ➞ &quot;in... in... incredible?&quot;"
   ]
  },
  {
   "cell_type": "markdown",
   "id": "d911eb39",
   "metadata": {},
   "source": [
    "stutter(&quot;enthusiastic&quot;) ➞ &quot;en... en... enthusiastic?&quot;"
   ]
  },
  {
   "cell_type": "markdown",
   "id": "b32c18c4",
   "metadata": {},
   "source": [
    "stutter(&quot;outstanding&quot;) ➞ &quot;ou... ou... outstanding?&quot;"
   ]
  },
  {
   "cell_type": "markdown",
   "id": "90a01920",
   "metadata": {},
   "source": [
    "Hint :- Assume all input is in lower case and at least two characters long."
   ]
  },
  {
   "cell_type": "code",
   "execution_count": 1,
   "id": "a6da69f5",
   "metadata": {},
   "outputs": [
    {
     "name": "stdout",
     "output_type": "stream",
     "text": [
      "Enter the word:demanding\n",
      "demanding ➞ de... de... demanding?\n",
      "Enter the word:renforcement\n",
      "renforcement ➞ re... re... renforcement?\n",
      "Enter the word:harererama\n",
      "harererama ➞ ha... ha... harererama?\n"
     ]
    }
   ],
   "source": [
    "def stutterWord():\n",
    "    in_string = input('Enter the word:')\n",
    "    out_string = in_string.replace(in_string[0:2],((in_string[0:2]+'... ')*2)+ in_string[0:2])  +'?'\n",
    "    print(f'{in_string} ➞ {out_string}')\n",
    "\n",
    "for i in range(3):\n",
    "    stutterWord()"
   ]
  },
  {
   "cell_type": "markdown",
   "id": "0f5fffde",
   "metadata": {},
   "source": [
    "Que 2.Create a function that takes an angle in radians and returns the corresponding angle in degrees rounded to one decimal place."
   ]
  },
  {
   "cell_type": "markdown",
   "id": "9b671e95",
   "metadata": {},
   "source": [
    "Examples:"
   ]
  },
  {
   "cell_type": "markdown",
   "id": "18e4c208",
   "metadata": {},
   "source": [
    "radians_to_degrees(1) ➞ 57.3"
   ]
  },
  {
   "cell_type": "markdown",
   "id": "d1f3dd78",
   "metadata": {},
   "source": [
    "radians_to_degrees(20) ➞ 1145.9"
   ]
  },
  {
   "cell_type": "markdown",
   "id": "b43af9cf",
   "metadata": {},
   "source": [
    "radians_to_degrees(50) ➞ 2864.8"
   ]
  },
  {
   "cell_type": "code",
   "execution_count": 3,
   "id": "fdd067e7",
   "metadata": {},
   "outputs": [
    {
     "name": "stdout",
     "output_type": "stream",
     "text": [
      "Enter the angle in Radians: 1\n",
      "1 radian(s) ➞ 57.3 degrees\n",
      "Enter the angle in Radians: 20\n",
      "20 radian(s) ➞ 1145.9 degrees\n",
      "Enter the angle in Radians: 50\n",
      "50 radian(s) ➞ 2864.8 degrees\n"
     ]
    }
   ],
   "source": [
    "import math\n",
    "def radianToDegree():\n",
    "    in_num = int(input('Enter the angle in Radians: '))\n",
    "    out_num = (180/math.pi)*in_num\n",
    "    print(f'{in_num} radian(s) ➞ {out_num:.1f} degrees')\n",
    "\n",
    "for x in range(3):\n",
    "    radianToDegree()"
   ]
  },
  {
   "cell_type": "markdown",
   "id": "d0c353c3",
   "metadata": {},
   "source": [
    "Que 3. In this challenge, establish if a given integer num is a Curzon number. If 1 plus 2 elevated to num is exactly divisible by 1 plus 2 multiplied by num, then num is a Curzon number. Given a non-negative integer num, implement a function that returns True if num is a Curzon number, or False otherwise."
   ]
  },
  {
   "cell_type": "markdown",
   "id": "c6d1c8b8",
   "metadata": {},
   "source": [
    "Examples:"
   ]
  },
  {
   "cell_type": "markdown",
   "id": "abca00fe",
   "metadata": {},
   "source": [
    "is_curzon(5) ➞ True"
   ]
  },
  {
   "cell_type": "markdown",
   "id": "9ae9ee81",
   "metadata": {},
   "source": [
    " #2 ** 5 + 1 = 33"
   ]
  },
  {
   "cell_type": "markdown",
   "id": "de102946",
   "metadata": {},
   "source": [
    "#2 * 5 + 1 = 11"
   ]
  },
  {
   "cell_type": "markdown",
   "id": "e1c35bb4",
   "metadata": {},
   "source": [
    "#33 is a multiple of 11"
   ]
  },
  {
   "cell_type": "markdown",
   "id": "dac401cf",
   "metadata": {},
   "source": [
    "is_curzon(10) ➞ False"
   ]
  },
  {
   "cell_type": "markdown",
   "id": "d61c558a",
   "metadata": {},
   "source": [
    "#2 ** 10 + 1 = 1025"
   ]
  },
  {
   "cell_type": "markdown",
   "id": "be1d4326",
   "metadata": {},
   "source": [
    "#2 * 10 + 1 = 21"
   ]
  },
  {
   "cell_type": "markdown",
   "id": "445f84e8",
   "metadata": {},
   "source": [
    "#1025 is not a multiple of 21"
   ]
  },
  {
   "cell_type": "markdown",
   "id": "d6b71e62",
   "metadata": {},
   "source": [
    "is_curzon(14) ➞ True"
   ]
  },
  {
   "cell_type": "markdown",
   "id": "5b45055b",
   "metadata": {},
   "source": [
    "#2 ** 14 + 1 = 16385"
   ]
  },
  {
   "cell_type": "markdown",
   "id": "e7c43789",
   "metadata": {},
   "source": [
    "#2 * 14 + 1 = 29"
   ]
  },
  {
   "cell_type": "markdown",
   "id": "a5f0faae",
   "metadata": {},
   "source": [
    "#16385 is a multiple of 29"
   ]
  },
  {
   "cell_type": "code",
   "execution_count": 4,
   "id": "d09de366",
   "metadata": {},
   "outputs": [
    {
     "name": "stdout",
     "output_type": "stream",
     "text": [
      "Enter a number: 5\n",
      "5 is a curzon number\n",
      "Enter a number: 10\n",
      "10 is not a curzon number\n",
      "Enter a number: 14\n",
      "14 is a curzon number\n"
     ]
    }
   ],
   "source": [
    "def check_curzon():\n",
    "    in_num = int(input('Enter a number: '))\n",
    "    if ((2**in_num)+1)%((2*in_num)+1) == 0:\n",
    "        print(f'{in_num} is a curzon number')\n",
    "    else:\n",
    "        print(f'{in_num} is not a curzon number')\n",
    "\n",
    "for i in range(3):\n",
    "    check_curzon()"
   ]
  },
  {
   "cell_type": "markdown",
   "id": "3d81ec44",
   "metadata": {},
   "source": [
    "Que 4.Given the side length x find the area of a hexagon."
   ]
  },
  {
   "cell_type": "markdown",
   "id": "3b994008",
   "metadata": {},
   "source": [
    " Examples:"
   ]
  },
  {
   "cell_type": "markdown",
   "id": "4004f40f",
   "metadata": {},
   "source": [
    "area_of_hexagon(1) ➞ 2.6"
   ]
  },
  {
   "cell_type": "markdown",
   "id": "b747c1a7",
   "metadata": {},
   "source": [
    "area_of_hexagon(2) ➞ 10.4"
   ]
  },
  {
   "cell_type": "markdown",
   "id": "7cc1e3e8",
   "metadata": {},
   "source": [
    "area_of_hexagon(3) ➞ 23.4"
   ]
  },
  {
   "cell_type": "code",
   "execution_count": 5,
   "id": "7dd25334",
   "metadata": {},
   "outputs": [
    {
     "name": "stdout",
     "output_type": "stream",
     "text": [
      "Enter the side lenght of a Hexagon: 1\n",
      "Area for Hexagon of sidelenght 1 ➞ 2.6\n",
      "Enter the side lenght of a Hexagon: 2\n",
      "Area for Hexagon of sidelenght 2 ➞ 10.4\n",
      "Enter the side lenght of a Hexagon: 3\n",
      "Area for Hexagon of sidelenght 3 ➞ 23.4\n"
     ]
    }
   ],
   "source": [
    "import math \n",
    "def area_of_hexagon():\n",
    "    in_num = int(input('Enter the side lenght of a Hexagon: '))\n",
    "    out_num = ((3*math.sqrt(3)/2))*(pow(in_num,2))\n",
    "    print(f'Area for Hexagon of sidelenght {in_num} ➞ {out_num:.1f}')\n",
    "    \n",
    "for i in range(3):\n",
    "    area_of_hexagon()"
   ]
  },
  {
   "cell_type": "markdown",
   "id": "650f544c",
   "metadata": {},
   "source": [
    "Que 5. Create a function that returns a base-2 (binary) representation of a base-10 (decimal) string number. To convert is simple: \n",
    "((2) means base-2 and (10) means base-10)\n",
    "\n",
    "010101001(2) = 1 + 8 + 32 + 128.\n",
    "\n",
    "Going from right to left, the value of the most right bit is 1, now from that every bit to the left\n",
    "will be x2 the value, value of an 8 bit binary numbers are (256, 128, 64, 32, 16, 8, 4, 2, 1)."
   ]
  },
  {
   "cell_type": "markdown",
   "id": "1c5c374b",
   "metadata": {},
   "source": [
    "Examples:"
   ]
  },
  {
   "cell_type": "markdown",
   "id": "28e36e0a",
   "metadata": {},
   "source": [
    "binary(1) ➞ &quot;1&quot;"
   ]
  },
  {
   "cell_type": "markdown",
   "id": "c867efdd",
   "metadata": {},
   "source": [
    "#1*1 = 1"
   ]
  },
  {
   "cell_type": "markdown",
   "id": "6d26012c",
   "metadata": {},
   "source": [
    "binary(5) ➞ &quot;101&quot;"
   ]
  },
  {
   "cell_type": "markdown",
   "id": "c34de11e",
   "metadata": {},
   "source": [
    "#1*1 + 1*4 = 5"
   ]
  },
  {
   "cell_type": "markdown",
   "id": "b5790e7c",
   "metadata": {},
   "source": [
    "binary(10) ➞ &quot;1010&quot;"
   ]
  },
  {
   "cell_type": "markdown",
   "id": "69566830",
   "metadata": {},
   "source": [
    "#1*2 + 1*8 = 10"
   ]
  },
  {
   "cell_type": "code",
   "execution_count": 6,
   "id": "88819995",
   "metadata": {},
   "outputs": [
    {
     "name": "stdout",
     "output_type": "stream",
     "text": [
      "Enter a Number:1\n",
      "Binary of 1 ➞ 1\n",
      "Enter a Number:5\n",
      "Binary of 5 ➞ 101\n",
      "Enter a Number:10\n",
      "Binary of 10 ➞ 1010\n"
     ]
    }
   ],
   "source": [
    "def get_binary():\n",
    "    in_num = int(input(\"Enter a Number:\"))\n",
    "    out_num = bin(in_num).replace('0b','')\n",
    "    print(f'Binary of {in_num} ➞ {out_num}')\n",
    "\n",
    "for i in range(3):\n",
    "    get_binary()"
   ]
  }
 ],
 "metadata": {
  "kernelspec": {
   "display_name": "Python 3",
   "language": "python",
   "name": "python3"
  },
  "language_info": {
   "codemirror_mode": {
    "name": "ipython",
    "version": 3
   },
   "file_extension": ".py",
   "mimetype": "text/x-python",
   "name": "python",
   "nbconvert_exporter": "python",
   "pygments_lexer": "ipython3",
   "version": "3.7.6"
  }
 },
 "nbformat": 4,
 "nbformat_minor": 5
}
