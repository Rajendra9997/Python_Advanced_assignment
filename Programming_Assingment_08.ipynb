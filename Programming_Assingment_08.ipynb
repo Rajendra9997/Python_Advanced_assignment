{
 "cells": [
  {
   "cell_type": "markdown",
   "id": "2f9abe12",
   "metadata": {},
   "source": [
    "Q 1.Write a Python Program to Add Two Matrices?"
   ]
  },
  {
   "cell_type": "code",
   "execution_count": 2,
   "id": "eb40723d",
   "metadata": {},
   "outputs": [
    {
     "name": "stdout",
     "output_type": "stream",
     "text": [
      "The Sum of the matrices \n",
      "\n",
      "[[4 5 6]\n",
      " [3 8 0]\n",
      " [2 6 3]] and \n",
      "\n",
      "[[7 8 9]\n",
      " [6 5 9]\n",
      " [5 7 9]] is \n",
      "\n",
      "[[11 13 15]\n",
      " [ 9 13  9]\n",
      " [ 7 13 12]]\n"
     ]
    }
   ],
   "source": [
    "import numpy as np\n",
    "matrix1 = np.array([[4,5,6],[3,8,0],[2,6,3]])\n",
    "matrix2 = np.array([[7,8,9],[6,5,9],[5,7,9]])\n",
    "matrix_sum = np.add(matrix1,matrix2)\n",
    "print(\"The Sum of the matrices \\n\\n{} and \\n\\n{} is \\n\\n{}\".format(matrix1,matrix2,matrix_sum))"
   ]
  },
  {
   "cell_type": "markdown",
   "id": "fee6b187",
   "metadata": {},
   "source": [
    "Q2.Write a Python Program to Multiply Two Matrices?"
   ]
  },
  {
   "cell_type": "code",
   "execution_count": 3,
   "id": "e686b7ae",
   "metadata": {},
   "outputs": [
    {
     "name": "stdout",
     "output_type": "stream",
     "text": [
      "The Product of the matrices \n",
      "\n",
      "[[4 5 6]\n",
      " [7 8 9]\n",
      " [6 5 9]] and \n",
      "\n",
      "[[1 2 3]\n",
      " [6 5 4]\n",
      " [9 8 7]] is \n",
      "\n",
      "[[ 88  81  74]\n",
      " [136 126 116]\n",
      " [117 109 101]]\n"
     ]
    }
   ],
   "source": [
    "import numpy as np\n",
    "matrix1 = np.array([[4,5,6],[7,8,9],[6,5,9]])\n",
    "matrix2 = np.array([[1,2,3],[6,5,4],[9,8,7]])\n",
    "matrix_product = np.dot(matrix1,matrix2)\n",
    "print(\"The Product of the matrices \\n\\n{} and \\n\\n{} is \\n\\n{}\".format(matrix1,matrix2,matrix_product))"
   ]
  },
  {
   "cell_type": "markdown",
   "id": "ec62424d",
   "metadata": {},
   "source": [
    "Q3.Write a Python Program to Transpose a Matrix?"
   ]
  },
  {
   "cell_type": "code",
   "execution_count": 4,
   "id": "d3af1514",
   "metadata": {},
   "outputs": [
    {
     "name": "stdout",
     "output_type": "stream",
     "text": [
      "The Transpose of the matrix \n",
      "\n",
      "[[11 12 13]\n",
      " [14 15 16]\n",
      " [17 18 19]] is \n",
      "\n",
      "[[11 14 17]\n",
      " [12 15 18]\n",
      " [13 16 19]] \n"
     ]
    }
   ],
   "source": [
    "import numpy as np\n",
    "matrix1 = np.array([[11,12,13],[14,15,16],[17,18,19]])\n",
    "matrix_transpose = np.transpose(matrix1)\n",
    "print(\"The Transpose of the matrix \\n\\n{} is \\n\\n{} \".format(matrix1,matrix_transpose))"
   ]
  },
  {
   "cell_type": "markdown",
   "id": "9a1fa661",
   "metadata": {},
   "source": [
    "Q4.Write a Python Program to Sort Words in Alphabetic Order?"
   ]
  },
  {
   "cell_type": "code",
   "execution_count": 5,
   "id": "492ea3fc",
   "metadata": {},
   "outputs": [
    {
     "name": "stdout",
     "output_type": "stream",
     "text": [
      "Enter a string of words to sort them in alphabetical order: sare jaha se accha hindustan hamara \n",
      "\n",
      "accha hamara hindustan jaha sare se\n"
     ]
    }
   ],
   "source": [
    "def words_sorter():\n",
    "    user_input = input(\"Enter a string of words to sort them in alphabetical order: \")\n",
    "    print()\n",
    "    sorted_list = sorted(user_input.lower().split())\n",
    "    print(' '.join(sorted_list))\n",
    "words_sorter()"
   ]
  },
  {
   "cell_type": "markdown",
   "id": "20130062",
   "metadata": {},
   "source": [
    "Q5.Write a Python Program to Remove Punctuation From a String?"
   ]
  },
  {
   "cell_type": "code",
   "execution_count": 6,
   "id": "5217f696",
   "metadata": {},
   "outputs": [
    {
     "name": "stdout",
     "output_type": "stream",
     "text": [
      "Enter the string from which you want to remove the punctuation: fsds course is very good for future !@#$%^&*\n"
     ]
    },
    {
     "data": {
      "text/plain": [
       "'fsds course is very good for future '"
      ]
     },
     "execution_count": 6,
     "metadata": {},
     "output_type": "execute_result"
    }
   ],
   "source": [
    "def punctuation_remover():\n",
    "    import string\n",
    "    user_input = input(\"Enter the string from which you want to remove the punctuation: \")\n",
    "    output = ''.join([i for i in user_input if i not in string.punctuation])\n",
    "    return output\n",
    "punctuation_remover()"
   ]
  },
  {
   "cell_type": "code",
   "execution_count": null,
   "id": "56de2322",
   "metadata": {},
   "outputs": [],
   "source": []
  },
  {
   "cell_type": "code",
   "execution_count": null,
   "id": "0c90a2f2",
   "metadata": {},
   "outputs": [],
   "source": []
  }
 ],
 "metadata": {
  "kernelspec": {
   "display_name": "Python 3",
   "language": "python",
   "name": "python3"
  },
  "language_info": {
   "codemirror_mode": {
    "name": "ipython",
    "version": 3
   },
   "file_extension": ".py",
   "mimetype": "text/x-python",
   "name": "python",
   "nbconvert_exporter": "python",
   "pygments_lexer": "ipython3",
   "version": "3.7.6"
  }
 },
 "nbformat": 4,
 "nbformat_minor": 5
}
