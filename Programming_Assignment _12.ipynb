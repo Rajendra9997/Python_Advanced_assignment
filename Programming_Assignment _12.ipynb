{
 "cells": [
  {
   "cell_type": "markdown",
   "id": "45b102c5",
   "metadata": {},
   "source": [
    "Q1.Write a Python program to Extract Unique values dictionary values?"
   ]
  },
  {
   "cell_type": "code",
   "execution_count": 3,
   "id": "9b9aaa38",
   "metadata": {},
   "outputs": [
    {
     "name": "stdout",
     "output_type": "stream",
     "text": [
      "The unique values from the values of the given dictionary are: \n"
     ]
    },
    {
     "data": {
      "text/plain": [
       "{0, 1, 2, 3, 4, 5, 6, 7, 8, 9, 10, 11, 12, 13, 14}"
      ]
     },
     "execution_count": 3,
     "metadata": {},
     "output_type": "execute_result"
    }
   ],
   "source": [
    "def Extractor(d):\n",
    "    Store_Room = []\n",
    "    for i in d.values():\n",
    "        for j in i:\n",
    "            Store_Room.append(j)\n",
    "    return set(Store_Room)\n",
    "\n",
    "print(\"The unique values from the values of the given dictionary are: \")\n",
    "Extractor({'a':[0,1,2,3,4,5],'b':[2,4,6,8,10,12],'c':[3,5,7,9,11,13],'d':[10,11,12,13,14]})"
   ]
  },
  {
   "cell_type": "markdown",
   "id": "bb99cb93",
   "metadata": {},
   "source": [
    "Q2.Write a Python program to find the sum of all items in a dictionary?"
   ]
  },
  {
   "cell_type": "code",
   "execution_count": 4,
   "id": "2ca902ce",
   "metadata": {},
   "outputs": [
    {
     "name": "stdout",
     "output_type": "stream",
     "text": [
      "The summation of all the values of the given dictionary is given below: \n"
     ]
    },
    {
     "data": {
      "text/plain": [
       "18044"
      ]
     },
     "execution_count": 4,
     "metadata": {},
     "output_type": "execute_result"
    }
   ],
   "source": [
    "def SUMMER(t):\n",
    "    SUM = 0\n",
    "    for i in t.values():\n",
    "        SUM = SUM + i\n",
    "    return SUM\n",
    "\n",
    "print(\"The summation of all the values of the given dictionary is given below: \")\n",
    "SUMMER({'a' : 2244, 'b' : 5556, 'c' : 5675, 'd' : 4569})"
   ]
  },
  {
   "cell_type": "markdown",
   "id": "54be4abf",
   "metadata": {},
   "source": [
    "Q3.Write a Python program to Merging two Dictionaries?"
   ]
  },
  {
   "cell_type": "code",
   "execution_count": 6,
   "id": "d97f74e7",
   "metadata": {},
   "outputs": [
    {
     "name": "stdout",
     "output_type": "stream",
     "text": [
      "The Merged dictionary is as:  {'a': 567, 'b': 678, 'c': 899, 'd': 255, 'e': 678, 'f': 898}\n"
     ]
    }
   ],
   "source": [
    "def DICTIONARY_MERGER(r1, r2):\n",
    "    r = r1.update(r2)\n",
    "    return r\n",
    "\n",
    "r1 = {\"a\" : 567, \"b\" : 678, \"c\" : 899}\n",
    "r2 = {\"d\" : 255, \"e\" : 678, \"f\" : 898}\n",
    "\n",
    "DICTIONARY_MERGER(r1, r2)\n",
    "print(\"The Merged dictionary is as: \", r1)"
   ]
  },
  {
   "cell_type": "markdown",
   "id": "3fd77b16",
   "metadata": {},
   "source": [
    "Q4.Write a Python program to convert key-values list to flat dictionary?"
   ]
  },
  {
   "cell_type": "code",
   "execution_count": 7,
   "id": "7587653d",
   "metadata": {},
   "outputs": [
    {
     "name": "stdout",
     "output_type": "stream",
     "text": [
      "The Flattened dictionary is as:  {'Phys': 34, 'Chem': 25, 'Math': 35}\n"
     ]
    }
   ],
   "source": [
    "def DICT_FLATTERER(r):\n",
    "    \n",
    "    Flattened_Dictionary = dict(zip(r[\"Sub\"], r[\"Marks Obtained out of 40\"]))\n",
    "    return Flattened_Dictionary\n",
    "\n",
    "r = {\"Sub\" : [\"Phys\", \"Chem\", \"Math\"], \"Marks Obtained out of 40\" :\n",
    "[34, 25, 35]}\n",
    "\n",
    "print(\"The Flattened dictionary is as: \", DICT_FLATTERER(r))"
   ]
  },
  {
   "cell_type": "markdown",
   "id": "3cf3541e",
   "metadata": {},
   "source": [
    "Q5.Write a Python program to insertion at the beginning in OrderedDict?"
   ]
  },
  {
   "cell_type": "code",
   "execution_count": 11,
   "id": "ce5b3fea",
   "metadata": {},
   "outputs": [
    {
     "name": "stdout",
     "output_type": "stream",
     "text": [
      "Final Dictionary : OrderedDict([('Marathi', 95), ('Phys', 80), ('Chem', 85), ('Math', 90)])\n"
     ]
    }
   ],
   "source": [
    "def INSERT(a,b):\n",
    "    \n",
    "    from collections import OrderedDict as OD\n",
    "    \n",
    "    Previous_Dictionary = OD(a)\n",
    "    Item_To_Be_Inserted = OD(b)\n",
    "    \n",
    "    Final_Dictionary = OD(list(Item_To_Be_Inserted.items()) + list(Previous_Dictionary.items()))\n",
    "    \n",
    "    return Final_Dictionary\n",
    "\n",
    "a ={'Phys': 80, 'Chem': 85, 'Math': 90}\n",
    "b = {'Marathi': 95}\n",
    "\n",
    "print(\"Final Dictionary :\", INSERT(a,b))"
   ]
  },
  {
   "cell_type": "markdown",
   "id": "69767b64",
   "metadata": {},
   "source": [
    "Q6.Write a Python program to check order of character in string using OrderedDict()?"
   ]
  },
  {
   "cell_type": "code",
   "execution_count": 13,
   "id": "21213dea",
   "metadata": {},
   "outputs": [
    {
     "name": "stdout",
     "output_type": "stream",
     "text": [
      "Enter the string: mrkinghot\n",
      "Enter the pattern for you which you want to check its order in the string: king\n"
     ]
    },
    {
     "data": {
      "text/plain": [
       "'The order of pattern is correct'"
      ]
     },
     "execution_count": 13,
     "metadata": {},
     "output_type": "execute_result"
    }
   ],
   "source": [
    "def CHECK_ORDER(r,k):\n",
    "    \n",
    "    from collections import OrderedDict\n",
    "    \n",
    "    Dictionary_Created = OrderedDict.fromkeys(r)\n",
    "    Pattern_Length = 0\n",
    "    \n",
    "    for i,j in Dictionary_Created.items():\n",
    "        if i == k[Pattern_Length]:\n",
    "            Pattern_Length = Pattern_Length + 1\n",
    "        \n",
    "        if Pattern_Length == len(k):\n",
    "            return \"The order of pattern is correct\"\n",
    "    return \"The order of pattern is incorrect\"\n",
    "\n",
    "r = input(\"Enter the string: \")\n",
    "k = input(\"Enter the pattern for you which you want to check its order in the string: \")\n",
    "\n",
    "CHECK_ORDER(r,k)"
   ]
  },
  {
   "cell_type": "markdown",
   "id": "a00363c3",
   "metadata": {},
   "source": [
    "Q7.Write a Python program to sort Python Dictionaries by Key or Value?"
   ]
  },
  {
   "cell_type": "markdown",
   "id": "e9a22067",
   "metadata": {},
   "source": [
    "SORTING BY KEY"
   ]
  },
  {
   "cell_type": "code",
   "execution_count": 15,
   "id": "617281c5",
   "metadata": {},
   "outputs": [
    {
     "name": "stdout",
     "output_type": "stream",
     "text": [
      "The original dictionary is :\n",
      "{'Phys': 87, 'Chem': 78, 'Math': 65, 'Marathi': 98}\n",
      "The modified dictionary when sorted by key is: \n",
      "[('Chem', 78), ('Marathi', 98), ('Math', 65), ('Phys', 87)]\n"
     ]
    }
   ],
   "source": [
    "def SORT_BY_KEY(r):\n",
    "    \n",
    "    from collections import OrderedDict as OD\n",
    "    \n",
    "    print(\"The original dictionary is :\")\n",
    "    print(r)\n",
    "    \n",
    "    print(\"The modified dictionary when sorted by key is: \")\n",
    "    print(sorted(list(r.items())))\n",
    "    \n",
    "r = {'Phys': 87, 'Chem': 78, 'Math': 65, 'Marathi': 98}\n",
    "SORT_BY_KEY(r)"
   ]
  },
  {
   "cell_type": "markdown",
   "id": "56530603",
   "metadata": {},
   "source": [
    "SORTING BY VALUE"
   ]
  },
  {
   "cell_type": "code",
   "execution_count": 19,
   "id": "704978d9",
   "metadata": {},
   "outputs": [
    {
     "name": "stdout",
     "output_type": "stream",
     "text": [
      "The original dictionary is :\n",
      "{'Chemistry': 67, 'Physics': 68, 'Mathematics': 76, 'Marathi': 79}\n",
      "The modified dictionary when sorted by value is: \n",
      "{'Chemistry': 67, 'Physics': 68, 'Mathematics': 76, 'Marathi': 79}\n"
     ]
    }
   ],
   "source": [
    "def SORT_BY_VALUE(r):\n",
    "    \n",
    "    print(\"The original dictionary is :\")\n",
    "    print(r)\n",
    "    \n",
    "    sorted_values = sorted(r.values())\n",
    "    sorted_dict_by_value = {}\n",
    "    \n",
    "    for i in sorted_values:\n",
    "        for k in r.keys():\n",
    "            if r[k] == i:\n",
    "                sorted_dict_by_value[k] = r[k]\n",
    "                break\n",
    "    print(\"The modified dictionary when sorted by value is: \")\n",
    "    print(sorted_dict_by_value)\n",
    "    \n",
    "r = {'Chemistry': 67, 'Physics': 68, 'Mathematics': 76, 'Marathi': 79}\n",
    "SORT_BY_VALUE(r)"
   ]
  }
 ],
 "metadata": {
  "kernelspec": {
   "display_name": "Python 3",
   "language": "python",
   "name": "python3"
  },
  "language_info": {
   "codemirror_mode": {
    "name": "ipython",
    "version": 3
   },
   "file_extension": ".py",
   "mimetype": "text/x-python",
   "name": "python",
   "nbconvert_exporter": "python",
   "pygments_lexer": "ipython3",
   "version": "3.7.6"
  }
 },
 "nbformat": 4,
 "nbformat_minor": 5
}
