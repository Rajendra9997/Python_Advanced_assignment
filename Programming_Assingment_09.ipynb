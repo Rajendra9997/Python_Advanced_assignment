{
 "cells": [
  {
   "cell_type": "markdown",
   "id": "43dba4c7",
   "metadata": {},
   "source": [
    "Q1.Write a Python program to check if the given number is a Disarium Number?"
   ]
  },
  {
   "cell_type": "code",
   "execution_count": 4,
   "id": "7f8bc93a",
   "metadata": {},
   "outputs": [
    {
     "name": "stdout",
     "output_type": "stream",
     "text": [
      "Enter the number you want to check if it is a Disarium Number or not: 135\n",
      "135  is a Disarium Number\n"
     ]
    }
   ],
   "source": [
    "def DisNum(x):\n",
    "    \"\"\"\n",
    "   It is a function to check if a number is a Disarium Number or not.\n",
    "   \n",
    "   NOTE: A number is said to be the Disarium number when the sum of its digit raised to\n",
    "   the power of their respective positions becomes equal to the number itself.\n",
    "   \n",
    "   It takes positive integer as an input.\n",
    "   \"\"\"\n",
    "    SUM = 0\n",
    "    count = 1\n",
    "    for i in str(x):\n",
    "        SUM = SUM + ((int(i))**count)\n",
    "        count = count + 1\n",
    "    if SUM == x:\n",
    "        print(x, \" is a Disarium Number\")\n",
    "    else:\n",
    "        print(x, \" is not a Disarium Number\")\n",
    "x = int(input(\"Enter the number you want to check if it is a Disarium Number or not: \"))\n",
    "DisNum(x)"
   ]
  },
  {
   "cell_type": "markdown",
   "id": "e39fbcb0",
   "metadata": {},
   "source": [
    "Q2.Write a Python program to print all disarium numbers between 1 to 100?"
   ]
  },
  {
   "cell_type": "code",
   "execution_count": 7,
   "id": "3b71fe23",
   "metadata": {},
   "outputs": [
    {
     "name": "stdout",
     "output_type": "stream",
     "text": [
      "1\n",
      "2\n",
      "3\n",
      "4\n",
      "5\n",
      "6\n",
      "7\n",
      "8\n",
      "9\n",
      "89\n"
     ]
    }
   ],
   "source": [
    "def DisNum(x):\n",
    "    \"\"\"It is a function to print all Disarium numbers between 1 to 100.\"\"\"\n",
    "    SUM = 0\n",
    "    count = 1\n",
    "    for i in str(x):\n",
    "        SUM = SUM + ((int(i))**count)\n",
    "        count = count + 1\n",
    "    if SUM == x:\n",
    "        return SUM\n",
    "CHECK = 0\n",
    "for i in range(1, 101):\n",
    "    CHECK =DisNum(i)\n",
    "    if CHECK == i:\n",
    "        print(i)"
   ]
  },
  {
   "cell_type": "markdown",
   "id": "89eaefce",
   "metadata": {},
   "source": [
    "Q3.Write a Python program to check if the given number is Happy Number?"
   ]
  },
  {
   "cell_type": "code",
   "execution_count": 10,
   "id": "746ca630",
   "metadata": {},
   "outputs": [
    {
     "name": "stdout",
     "output_type": "stream",
     "text": [
      "Enter the number you want to check if it is a Happy Number or not: 97\n",
      "97  is a Happy Number\n"
     ]
    }
   ],
   "source": [
    "def HapNum(x):\n",
    "    SUM = 0\n",
    "    for i in str(x):\n",
    "        SUM = SUM + ((int(i))**2)\n",
    "    return SUM\n",
    "\n",
    "R = int(input(\"Enter the number you want to check if it is a Happy Number or not: \"))\n",
    "CHECK = R\n",
    "\n",
    "while CHECK != 1 and CHECK != 4:\n",
    "    CHECK = HapNum(CHECK)\n",
    "    \n",
    "if CHECK == 1:\n",
    "    print(R, \" is a Happy Number\")\n",
    "    \n",
    "elif CHECK == 4:\n",
    "    print(R,\" is not a Nappy Number\")"
   ]
  },
  {
   "cell_type": "markdown",
   "id": "60810e72",
   "metadata": {},
   "source": [
    "Q4.Write a Python program to print all happy numbers between 1 and 100?"
   ]
  },
  {
   "cell_type": "code",
   "execution_count": 13,
   "id": "cd2e7689",
   "metadata": {},
   "outputs": [
    {
     "name": "stdout",
     "output_type": "stream",
     "text": [
      "List of happy numbers between 1 and 100: \n",
      "1\n",
      "7\n",
      "10\n",
      "13\n",
      "19\n",
      "23\n",
      "28\n",
      "31\n",
      "32\n",
      "44\n",
      "49\n",
      "68\n",
      "70\n",
      "79\n",
      "82\n",
      "86\n",
      "91\n",
      "94\n",
      "97\n",
      "100\n"
     ]
    }
   ],
   "source": [
    "def HapNum(x):\n",
    "    \"\"\"It is a function to print Happy Numbers between 1 and 100.\"\"\"\n",
    "    SUM = 0\n",
    "    for i in str(x):\n",
    "        SUM = SUM + ((int(i))**2)\n",
    "    return SUM\n",
    "\n",
    "print(\"List of happy numbers between 1 and 100: \")\n",
    "for i in range(1, 101):\n",
    "    CHECK = i\n",
    "    \n",
    "    while CHECK != 1 and CHECK != 4:\n",
    "        CHECK = HapNum(CHECK)\n",
    "    if CHECK == 1:\n",
    "        print(i)"
   ]
  },
  {
   "cell_type": "markdown",
   "id": "041018b3",
   "metadata": {},
   "source": [
    "Q5.Write a Python program to determine whether the given number is a Harshad Number?"
   ]
  },
  {
   "cell_type": "code",
   "execution_count": 16,
   "id": "e9c5cc02",
   "metadata": {},
   "outputs": [
    {
     "name": "stdout",
     "output_type": "stream",
     "text": [
      "Enter the number you want to verify if it is a Harshad Number or not: 7\n",
      "7  is a Harshad Number\n"
     ]
    }
   ],
   "source": [
    "def HarNum(x):\n",
    "    SUM = 0\n",
    "    for i in str(x):\n",
    "        SUM = SUM + int(i)\n",
    "    if x % SUM == 0:\n",
    "        print(x, \" is a Harshad Number\")\n",
    "    else:\n",
    "        print(x, \" is not a Harshad Number\")\n",
    "        \n",
    "x = int(input(\"Enter the number you want to verify if it is a Harshad Number or not: \"))\n",
    "HarNum(x)"
   ]
  },
  {
   "cell_type": "markdown",
   "id": "c2eb3604",
   "metadata": {},
   "source": [
    "Q6.Write a Python program to print all pronic numbers between 1 and 100?"
   ]
  },
  {
   "cell_type": "code",
   "execution_count": 17,
   "id": "ce7e7db6",
   "metadata": {},
   "outputs": [
    {
     "name": "stdout",
     "output_type": "stream",
     "text": [
      "2\n",
      "6\n",
      "12\n",
      "20\n",
      "30\n",
      "42\n",
      "56\n",
      "72\n",
      "90\n"
     ]
    }
   ],
   "source": [
    "def PronicPrint(x):\n",
    "    \"\"\"It is a function to print all pronic numbers between 1 and 100.\"\"\"\n",
    "    for i in range(1, 101):\n",
    "        if type(i*(i+1)) == int and (i*(i+1)) < 100:\n",
    "            print(i*(i+1))\n",
    "PronicPrint(x)"
   ]
  },
  {
   "cell_type": "code",
   "execution_count": null,
   "id": "cf197806",
   "metadata": {},
   "outputs": [],
   "source": []
  }
 ],
 "metadata": {
  "kernelspec": {
   "display_name": "Python 3",
   "language": "python",
   "name": "python3"
  },
  "language_info": {
   "codemirror_mode": {
    "name": "ipython",
    "version": 3
   },
   "file_extension": ".py",
   "mimetype": "text/x-python",
   "name": "python",
   "nbconvert_exporter": "python",
   "pygments_lexer": "ipython3",
   "version": "3.7.6"
  }
 },
 "nbformat": 4,
 "nbformat_minor": 5
}
