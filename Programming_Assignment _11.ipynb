{
 "cells": [
  {
   "cell_type": "markdown",
   "id": "ad6b9e68",
   "metadata": {},
   "source": [
    "Q1.Write a Python program to find words which are greater than given length k?"
   ]
  },
  {
   "cell_type": "code",
   "execution_count": 7,
   "id": "38b709d5",
   "metadata": {},
   "outputs": [
    {
     "name": "stdout",
     "output_type": "stream",
     "text": [
      "Enter the string: chatrapati shivaji maharaj ki jai jai bhavani jai shivaji\n",
      "Enter the value of k: 4\n"
     ]
    },
    {
     "data": {
      "text/plain": [
       "['chatrapati', 'shivaji', 'maharaj', 'bhavani', 'shivaji']"
      ]
     },
     "execution_count": 7,
     "metadata": {},
     "output_type": "execute_result"
    }
   ],
   "source": [
    "def WORD_FILTER(r,k):\n",
    "    \n",
    "    List_Of_Required_Words = []\n",
    "    Store_Room = r.split(\" \")\n",
    "    for i in Store_Room:\n",
    "        if len(i) > k:\n",
    "            List_Of_Required_Words.append(i)\n",
    "    return List_Of_Required_Words\n",
    "    \n",
    "r = input(\"Enter the string: \")\n",
    "k = int(input(\"Enter the value of k: \"))\n",
    "WORD_FILTER(r,k)"
   ]
  },
  {
   "cell_type": "markdown",
   "id": "ded9b5f7",
   "metadata": {},
   "source": [
    "Q2.Write a Python program for removing i-th character from a string?"
   ]
  },
  {
   "cell_type": "code",
   "execution_count": 8,
   "id": "9accaff9",
   "metadata": {},
   "outputs": [
    {
     "name": "stdout",
     "output_type": "stream",
     "text": [
      "Enter the string: 987654321\n",
      "Enter the index value of the character you want to remove: 4\n"
     ]
    },
    {
     "data": {
      "text/plain": [
       "'98764321'"
      ]
     },
     "execution_count": 8,
     "metadata": {},
     "output_type": "execute_result"
    }
   ],
   "source": [
    "def REMOVE_CHARACTER(r,b):\n",
    "    for i in range(len(r)):\n",
    "        if i == b:\n",
    "            r = r.replace(r[i], \"\", 1)\n",
    "    return r\n",
    "\n",
    "r = input(\"Enter the string: \")\n",
    "b = int(input(\"Enter the index value of the character you want to remove: \"))\n",
    "REMOVE_CHARACTER(r,b)"
   ]
  },
  {
   "cell_type": "markdown",
   "id": "38a3f072",
   "metadata": {},
   "source": [
    "Q3.Write a Python program to split and join a string?"
   ]
  },
  {
   "cell_type": "code",
   "execution_count": 3,
   "id": "a3057c57",
   "metadata": {},
   "outputs": [
    {
     "name": "stdout",
     "output_type": "stream",
     "text": [
      "Enter the string:   chatrapati shivaji maharaj ki jai jai bhavani jai shivaji\n",
      "Enter the delimeter on the basis of which you want to split the string: __\n",
      "Enter the delimeter on the basis of which you want to join the list of splited string: __\n"
     ]
    },
    {
     "data": {
      "text/plain": [
       "'chatrapati shivaji maharaj ki jai jai bhavani jai shivaji'"
      ]
     },
     "execution_count": 3,
     "metadata": {},
     "output_type": "execute_result"
    }
   ],
   "source": [
    "def JOIN_AFTER_SPLITTING_STRING(string,r,k):\n",
    "    \n",
    "    List_Of_Splitted_String = string.split(r)\n",
    "    Joined_String = k.join(List_Of_Splitted_String)\n",
    "    \n",
    "    return Joined_String\n",
    "\n",
    "string = input(\"Enter the string:   \")\n",
    "r = input(\"Enter the delimeter on the basis of which you want to split the string: \")\n",
    "k = input(\"Enter the delimeter on the basis of which you want to join the list of splited string: \")\n",
    "\n",
    "JOIN_AFTER_SPLITTING_STRING(string,r,k)"
   ]
  },
  {
   "cell_type": "markdown",
   "id": "e0f32238",
   "metadata": {},
   "source": [
    "Q4.Write a Python to check if a given string is binary string or not?"
   ]
  },
  {
   "cell_type": "code",
   "execution_count": 4,
   "id": "56aa9e16",
   "metadata": {},
   "outputs": [
    {
     "name": "stdout",
     "output_type": "stream",
     "text": [
      "Enter the string you want to check if it is binary or not: 12234545677889765\n",
      "The given string is not a binary string.\n"
     ]
    }
   ],
   "source": [
    "def CHECK_STING_FOR_BINARY(r):\n",
    "    \n",
    "    STORE_ROOM = set(r)\n",
    "    BINARAY_SET ={\"0\", \"1\"}\n",
    "    \n",
    "    if STORE_ROOM == BINARAY_SET or STORE_ROOM == {\"0\"} or STORE_ROOM == {\"1\"}:\n",
    "        print (\"The given string is a binary string.\")\n",
    "    else:\n",
    "        print(\"The given string is not a binary string.\")\n",
    "        \n",
    "r = input(\"Enter the string you want to check if it is binary or not: \")\n",
    "CHECK_STING_FOR_BINARY(r)"
   ]
  },
  {
   "cell_type": "markdown",
   "id": "aeaaf65e",
   "metadata": {},
   "source": [
    "Q5.Write a Python program to find uncommon words from two Strings?"
   ]
  },
  {
   "cell_type": "code",
   "execution_count": 6,
   "id": "002af302",
   "metadata": {},
   "outputs": [
    {
     "name": "stdout",
     "output_type": "stream",
     "text": [
      "Enter the first string: chatrapati shivaji maharaj ki jai jai bhavani jai shivaji\n",
      "Enter the second string: the great indian warrior chatrapti shivaji maharaj ki jai\n",
      "The uncommon words found from the given two strings is given below in the list.\n"
     ]
    },
    {
     "data": {
      "text/plain": [
       "['chatrapati', 'bhavani', 'the', 'great', 'indian', 'warrior', 'chatrapti']"
      ]
     },
     "execution_count": 6,
     "metadata": {},
     "output_type": "execute_result"
    }
   ],
   "source": [
    "def UNCOMMON_FINDER(r1, r2):\n",
    "    \n",
    "    List_Of_Uncommon_Words = []\n",
    "\n",
    "    List1 = r1.split()\n",
    "    List2 = r2.split()\n",
    "    \n",
    "    for i in List1:\n",
    "        if i not in List2:\n",
    "            List_Of_Uncommon_Words.append(i)\n",
    "            \n",
    "    for j in List2:\n",
    "        if j not in List1:\n",
    "            List_Of_Uncommon_Words.append(j)\n",
    "            \n",
    "    return List_Of_Uncommon_Words\n",
    "    \n",
    "r1 = input(\"Enter the first string: \")\n",
    "r2 = input(\"Enter the second string: \")\n",
    "\n",
    "print(\"The uncommon words found from the given two strings is given below in the list.\")\n",
    "UNCOMMON_FINDER(r1, r2)"
   ]
  },
  {
   "cell_type": "markdown",
   "id": "d1825cdb",
   "metadata": {},
   "source": [
    "Q6.Write a Python to find all duplicate characters in string?"
   ]
  },
  {
   "cell_type": "code",
   "execution_count": 7,
   "id": "b9881441",
   "metadata": {},
   "outputs": [
    {
     "name": "stdout",
     "output_type": "stream",
     "text": [
      "Enter the string: iamrajeeennddraaa\n",
      "The duplicate characters found in the given string is given below in the set.\n"
     ]
    },
    {
     "data": {
      "text/plain": [
       "{'a', 'd', 'e', 'n', 'r'}"
      ]
     },
     "execution_count": 7,
     "metadata": {},
     "output_type": "execute_result"
    }
   ],
   "source": [
    "def DUPLICATE_FINDER(r):\n",
    "    \n",
    "    List_Of_Duplicates = []\n",
    "    \n",
    "    for i in r:\n",
    "        if r.count(i) > 1:\n",
    "            List_Of_Duplicates.append(i)\n",
    "            \n",
    "    return set(List_Of_Duplicates)\n",
    "\n",
    "r = input(\"Enter the string: \")\n",
    "\n",
    "print(\"The duplicate characters found in the given string is given below in the set.\")\n",
    "DUPLICATE_FINDER(r)"
   ]
  },
  {
   "cell_type": "markdown",
   "id": "5c5e6845",
   "metadata": {},
   "source": [
    "Q7.Write a Python Program to check if a string contains any special character?"
   ]
  },
  {
   "cell_type": "code",
   "execution_count": 8,
   "id": "299a241a",
   "metadata": {},
   "outputs": [
    {
     "name": "stdout",
     "output_type": "stream",
     "text": [
      "Enter the string to check if it contains any special character or not: i am raje jadhav from nashik\n",
      "The given string does not contain any special character.\n"
     ]
    }
   ],
   "source": [
    "def CHECK_SPECIAL_CHAR(r):\n",
    "    \n",
    "    import string as Imported_Module\n",
    "    \n",
    "    Set_Of_Special_Characters = set(Imported_Module.punctuation)\n",
    "    if any(i in Set_Of_Special_Characters for i in r):\n",
    "        print(\"The given string contains special character.\")\n",
    "    else:\n",
    "        print(\"The given string does not contain any special character.\")\n",
    "        \n",
    "r = input(\"Enter the string to check if it contains any special character or not: \")\n",
    "CHECK_SPECIAL_CHAR(r)  "
   ]
  },
  {
   "cell_type": "code",
   "execution_count": null,
   "id": "184285cb",
   "metadata": {},
   "outputs": [],
   "source": []
  }
 ],
 "metadata": {
  "kernelspec": {
   "display_name": "Python 3",
   "language": "python",
   "name": "python3"
  },
  "language_info": {
   "codemirror_mode": {
    "name": "ipython",
    "version": 3
   },
   "file_extension": ".py",
   "mimetype": "text/x-python",
   "name": "python",
   "nbconvert_exporter": "python",
   "pygments_lexer": "ipython3",
   "version": "3.7.6"
  }
 },
 "nbformat": 4,
 "nbformat_minor": 5
}
